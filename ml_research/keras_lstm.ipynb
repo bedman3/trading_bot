{
 "cells": [
  {
   "cell_type": "code",
   "execution_count": 1,
   "metadata": {},
   "outputs": [],
   "source": [
    "# Import relevant libraries\n",
    "import numpy as np\n",
    "import matplotlib.pyplot as plt\n",
    "import pandas as pd\n",
    "%matplotlib notebook"
   ]
  },
  {
   "cell_type": "code",
   "execution_count": 2,
   "metadata": {},
   "outputs": [
    {
     "data": {
      "text/html": [
       "<div>\n",
       "<style scoped>\n",
       "    .dataframe tbody tr th:only-of-type {\n",
       "        vertical-align: middle;\n",
       "    }\n",
       "\n",
       "    .dataframe tbody tr th {\n",
       "        vertical-align: top;\n",
       "    }\n",
       "\n",
       "    .dataframe thead th {\n",
       "        text-align: right;\n",
       "    }\n",
       "</style>\n",
       "<table border=\"1\" class=\"dataframe\">\n",
       "  <thead>\n",
       "    <tr style=\"text-align: right;\">\n",
       "      <th></th>\n",
       "      <th>HIGH</th>\n",
       "      <th>LOW</th>\n",
       "      <th>OPEN</th>\n",
       "      <th>CLOSE</th>\n",
       "      <th>COUNT</th>\n",
       "      <th>VOLUME</th>\n",
       "      <th>SMA_10M</th>\n",
       "      <th>SMA_30M</th>\n",
       "      <th>SMA_1H</th>\n",
       "      <th>SMA_2H</th>\n",
       "    </tr>\n",
       "    <tr>\n",
       "      <th>Date</th>\n",
       "      <th></th>\n",
       "      <th></th>\n",
       "      <th></th>\n",
       "      <th></th>\n",
       "      <th></th>\n",
       "      <th></th>\n",
       "      <th></th>\n",
       "      <th></th>\n",
       "      <th></th>\n",
       "      <th></th>\n",
       "    </tr>\n",
       "  </thead>\n",
       "  <tbody>\n",
       "    <tr>\n",
       "      <td>2019-01-02 11:00:00</td>\n",
       "      <td>154.60</td>\n",
       "      <td>154.46</td>\n",
       "      <td>154.50</td>\n",
       "      <td>154.60</td>\n",
       "      <td>4.0</td>\n",
       "      <td>268.0</td>\n",
       "      <td>154.431</td>\n",
       "      <td>154.440667</td>\n",
       "      <td>154.502500</td>\n",
       "      <td>154.422250</td>\n",
       "    </tr>\n",
       "    <tr>\n",
       "      <td>2019-01-02 11:01:00</td>\n",
       "      <td>154.58</td>\n",
       "      <td>154.58</td>\n",
       "      <td>154.58</td>\n",
       "      <td>154.58</td>\n",
       "      <td>1.0</td>\n",
       "      <td>350.0</td>\n",
       "      <td>154.454</td>\n",
       "      <td>154.443000</td>\n",
       "      <td>154.503833</td>\n",
       "      <td>154.423750</td>\n",
       "    </tr>\n",
       "    <tr>\n",
       "      <td>2019-01-02 11:02:00</td>\n",
       "      <td>154.36</td>\n",
       "      <td>154.35</td>\n",
       "      <td>154.36</td>\n",
       "      <td>154.35</td>\n",
       "      <td>2.0</td>\n",
       "      <td>212.0</td>\n",
       "      <td>154.455</td>\n",
       "      <td>154.438000</td>\n",
       "      <td>154.501500</td>\n",
       "      <td>154.426750</td>\n",
       "    </tr>\n",
       "    <tr>\n",
       "      <td>2019-01-02 11:03:00</td>\n",
       "      <td>154.35</td>\n",
       "      <td>154.35</td>\n",
       "      <td>154.35</td>\n",
       "      <td>154.35</td>\n",
       "      <td>4.0</td>\n",
       "      <td>786.0</td>\n",
       "      <td>154.455</td>\n",
       "      <td>154.432667</td>\n",
       "      <td>154.499000</td>\n",
       "      <td>154.429667</td>\n",
       "    </tr>\n",
       "    <tr>\n",
       "      <td>2019-01-02 11:04:00</td>\n",
       "      <td>154.35</td>\n",
       "      <td>154.31</td>\n",
       "      <td>154.35</td>\n",
       "      <td>154.31</td>\n",
       "      <td>8.0</td>\n",
       "      <td>454.0</td>\n",
       "      <td>154.440</td>\n",
       "      <td>154.424667</td>\n",
       "      <td>154.496500</td>\n",
       "      <td>154.432500</td>\n",
       "    </tr>\n",
       "    <tr>\n",
       "      <td>...</td>\n",
       "      <td>...</td>\n",
       "      <td>...</td>\n",
       "      <td>...</td>\n",
       "      <td>...</td>\n",
       "      <td>...</td>\n",
       "      <td>...</td>\n",
       "      <td>...</td>\n",
       "      <td>...</td>\n",
       "      <td>...</td>\n",
       "      <td>...</td>\n",
       "    </tr>\n",
       "    <tr>\n",
       "      <td>2019-09-19 23:56:00</td>\n",
       "      <td>221.27</td>\n",
       "      <td>221.15</td>\n",
       "      <td>221.27</td>\n",
       "      <td>221.20</td>\n",
       "      <td>4.0</td>\n",
       "      <td>320.0</td>\n",
       "      <td>221.180</td>\n",
       "      <td>221.175000</td>\n",
       "      <td>221.123167</td>\n",
       "      <td>221.075500</td>\n",
       "    </tr>\n",
       "    <tr>\n",
       "      <td>2019-09-19 23:57:00</td>\n",
       "      <td>221.10</td>\n",
       "      <td>221.10</td>\n",
       "      <td>221.10</td>\n",
       "      <td>221.10</td>\n",
       "      <td>1.0</td>\n",
       "      <td>47.0</td>\n",
       "      <td>221.169</td>\n",
       "      <td>221.177333</td>\n",
       "      <td>221.122833</td>\n",
       "      <td>221.076333</td>\n",
       "    </tr>\n",
       "    <tr>\n",
       "      <td>2019-09-19 23:58:00</td>\n",
       "      <td>221.10</td>\n",
       "      <td>221.08</td>\n",
       "      <td>221.10</td>\n",
       "      <td>221.08</td>\n",
       "      <td>6.0</td>\n",
       "      <td>713.0</td>\n",
       "      <td>221.158</td>\n",
       "      <td>221.180000</td>\n",
       "      <td>221.122500</td>\n",
       "      <td>221.077667</td>\n",
       "    </tr>\n",
       "    <tr>\n",
       "      <td>2019-09-19 23:59:00</td>\n",
       "      <td>221.05</td>\n",
       "      <td>220.96</td>\n",
       "      <td>221.05</td>\n",
       "      <td>220.96</td>\n",
       "      <td>6.0</td>\n",
       "      <td>657.0</td>\n",
       "      <td>221.147</td>\n",
       "      <td>221.179000</td>\n",
       "      <td>221.121333</td>\n",
       "      <td>221.079250</td>\n",
       "    </tr>\n",
       "    <tr>\n",
       "      <td>2019-09-20 00:00:00</td>\n",
       "      <td>221.19</td>\n",
       "      <td>221.19</td>\n",
       "      <td>221.19</td>\n",
       "      <td>221.19</td>\n",
       "      <td>2.0</td>\n",
       "      <td>350.0</td>\n",
       "      <td>221.150</td>\n",
       "      <td>221.182667</td>\n",
       "      <td>221.122500</td>\n",
       "      <td>221.081917</td>\n",
       "    </tr>\n",
       "  </tbody>\n",
       "</table>\n",
       "<p>151958 rows × 10 columns</p>\n",
       "</div>"
      ],
      "text/plain": [
       "                       HIGH     LOW    OPEN   CLOSE  COUNT  VOLUME  SMA_10M  \\\n",
       "Date                                                                          \n",
       "2019-01-02 11:00:00  154.60  154.46  154.50  154.60    4.0   268.0  154.431   \n",
       "2019-01-02 11:01:00  154.58  154.58  154.58  154.58    1.0   350.0  154.454   \n",
       "2019-01-02 11:02:00  154.36  154.35  154.36  154.35    2.0   212.0  154.455   \n",
       "2019-01-02 11:03:00  154.35  154.35  154.35  154.35    4.0   786.0  154.455   \n",
       "2019-01-02 11:04:00  154.35  154.31  154.35  154.31    8.0   454.0  154.440   \n",
       "...                     ...     ...     ...     ...    ...     ...      ...   \n",
       "2019-09-19 23:56:00  221.27  221.15  221.27  221.20    4.0   320.0  221.180   \n",
       "2019-09-19 23:57:00  221.10  221.10  221.10  221.10    1.0    47.0  221.169   \n",
       "2019-09-19 23:58:00  221.10  221.08  221.10  221.08    6.0   713.0  221.158   \n",
       "2019-09-19 23:59:00  221.05  220.96  221.05  220.96    6.0   657.0  221.147   \n",
       "2019-09-20 00:00:00  221.19  221.19  221.19  221.19    2.0   350.0  221.150   \n",
       "\n",
       "                        SMA_30M      SMA_1H      SMA_2H  \n",
       "Date                                                     \n",
       "2019-01-02 11:00:00  154.440667  154.502500  154.422250  \n",
       "2019-01-02 11:01:00  154.443000  154.503833  154.423750  \n",
       "2019-01-02 11:02:00  154.438000  154.501500  154.426750  \n",
       "2019-01-02 11:03:00  154.432667  154.499000  154.429667  \n",
       "2019-01-02 11:04:00  154.424667  154.496500  154.432500  \n",
       "...                         ...         ...         ...  \n",
       "2019-09-19 23:56:00  221.175000  221.123167  221.075500  \n",
       "2019-09-19 23:57:00  221.177333  221.122833  221.076333  \n",
       "2019-09-19 23:58:00  221.180000  221.122500  221.077667  \n",
       "2019-09-19 23:59:00  221.179000  221.121333  221.079250  \n",
       "2019-09-20 00:00:00  221.182667  221.122500  221.081917  \n",
       "\n",
       "[151958 rows x 10 columns]"
      ]
     },
     "execution_count": 2,
     "metadata": {},
     "output_type": "execute_result"
    }
   ],
   "source": [
    "# Load datasets\n",
    "aapl_market = pd.read_hdf('data.hdf5', key='AAPL_O_2019_market').dropna()\n",
    "amzn_market = pd.read_hdf('data.hdf5', key='AMZN_O_2019_market').dropna()\n",
    "\n",
    "aapl_market"
   ]
  },
  {
   "cell_type": "code",
   "execution_count": 3,
   "metadata": {},
   "outputs": [],
   "source": [
    "from sklearn.preprocessing import MinMaxScaler\n",
    "#LSTM building step\n",
    "import tensorflow as tf\n",
    "from tensorflow.keras.models import Sequential\n",
    "from tensorflow.keras.layers import Dense\n",
    "from tensorflow.keras.layers import LSTM\n",
    "from tensorflow.keras.layers import Dropout\n",
    "from tensorflow.compat.v1.keras.layers import CuDNNLSTM\n",
    "\n",
    "def get_train_test_split(df: pd.DataFrame, test_split: float=0.2) -> (np.array, np.array, np.array, np.array):\n",
    "    # data splitting\n",
    "    #Feature Scaling\n",
    "\n",
    "    sc = MinMaxScaler(feature_range = (0, 1))\n",
    "    \n",
    "    split = int(len(df) * (1 - test_split))\n",
    "    dataset = sc.fit_transform(df.loc[:, 'OPEN'].values.reshape(-1, 1))\n",
    "\n",
    "    training_set_scaled = dataset[:split]\n",
    "    testing_set_scaled = dataset[split:]\n",
    "    display(len(training_set_scaled), len(testing_set_scaled))\n",
    "    \n",
    "    X_train = []\n",
    "    y_train = []\n",
    "    \n",
    "    X_test = []\n",
    "    y_test = []\n",
    "\n",
    "\n",
    "    #In future it might be more suitable to scale by windows\n",
    "    try:\n",
    "        for i in range(61, len(training_set_scaled)):\n",
    "            X_train.append(training_set_scaled[i-60:i, 0])\n",
    "            y_train.append(training_set_scaled[i, 0])\n",
    "\n",
    "    except ValueError as e:\n",
    "        print(e.args)\n",
    "    \n",
    "    X_train, y_train = np.array(X_train), np.array(y_train)\n",
    "\n",
    "    X_train = np.reshape(X_train, (X_train.shape[0], X_train.shape[1], 1))\n",
    "        \n",
    "    try:\n",
    "        for i in range(61, len(testing_set_scaled)): # -3000\n",
    "            X_test.append(testing_set_scaled[i-60:i, 0])\n",
    "            y_test.append(testing_set_scaled[i, 0])\n",
    "\n",
    "    except ValueError as e:\n",
    "        print(e.args)\n",
    "    \n",
    "    X_test, y_test = np.array(X_test), np.array(y_test).reshape(-1, 1)\n",
    "\n",
    "    X_test = np.reshape(X_test, (X_test.shape[0], X_test.shape[1], 1))\n",
    "    \n",
    "    return X_train, X_test, y_train, y_test, sc\n"
   ]
  },
  {
   "cell_type": "code",
   "execution_count": 4,
   "metadata": {},
   "outputs": [
    {
     "data": {
      "text/plain": [
       "121566"
      ]
     },
     "metadata": {},
     "output_type": "display_data"
    },
    {
     "data": {
      "text/plain": [
       "30392"
      ]
     },
     "metadata": {},
     "output_type": "display_data"
    }
   ],
   "source": [
    "X_train, X_test, y_train, y_test, sc = get_train_test_split(aapl_market, 0.2)"
   ]
  },
  {
   "cell_type": "code",
   "execution_count": 5,
   "metadata": {},
   "outputs": [],
   "source": [
    "# # Here we have hidden layers with 50 units each\n",
    "# regressor = Sequential()\n",
    "\n",
    "# regressor.add(CuDNNLSTM(units = 20, return_sequences = True, input_shape = (X_train.shape[1], 1)))\n",
    "# regressor.add(Dropout(0.15))\n",
    "\n",
    "# regressor.add(CuDNNLSTM(units = 20, return_sequences = True))\n",
    "# regressor.add(Dropout(0.15))\n",
    "\n",
    "# regressor.add(CuDNNLSTM(units = 20, return_sequences = True))\n",
    "# regressor.add(Dropout(0.15))\n",
    "\n",
    "# regressor.add(CuDNNLSTM(units = 20))\n",
    "# regressor.add(Dropout(0.15))\n",
    "\n",
    "# regressor.add(Dense(units = 1))\n",
    "\n",
    "# regressor.compile(optimizer = 'adam', loss = 'mean_squared_error')\n",
    "# cb = tf.keras.callbacks.EarlyStopping(monitor='val_loss', patience=3, min_delta=0.0001)\n",
    "# regressor.fit(X_train, y_train, epochs = 100, batch_size = 3600, callbacks=[cb])\n",
    "# regressor.save('regressor.h5')"
   ]
  },
  {
   "cell_type": "code",
   "execution_count": null,
   "metadata": {
    "scrolled": true
   },
   "outputs": [],
   "source": [
    "# X_train, X_test, y_train, y_test, sc = get_train_test_split(amzn_market, 0.2)\n",
    "# display(X_train.shape, X_test.shape, y_train.shape, y_test.shape)\n",
    "# # display(X_train, X_test, y_train, y_test)"
   ]
  },
  {
   "cell_type": "code",
   "execution_count": 6,
   "metadata": {},
   "outputs": [
    {
     "name": "stdout",
     "output_type": "stream",
     "text": [
      "Model: \"sequential_6\"\n",
      "_________________________________________________________________\n",
      "Layer (type)                 Output Shape              Param #   \n",
      "=================================================================\n",
      "cu_dnnlstm_24 (CuDNNLSTM)    (None, 60, 20)            1840      \n",
      "_________________________________________________________________\n",
      "dropout_24 (Dropout)         (None, 60, 20)            0         \n",
      "_________________________________________________________________\n",
      "cu_dnnlstm_25 (CuDNNLSTM)    (None, 60, 20)            3360      \n",
      "_________________________________________________________________\n",
      "dropout_25 (Dropout)         (None, 60, 20)            0         \n",
      "_________________________________________________________________\n",
      "cu_dnnlstm_26 (CuDNNLSTM)    (None, 60, 20)            3360      \n",
      "_________________________________________________________________\n",
      "dropout_26 (Dropout)         (None, 60, 20)            0         \n",
      "_________________________________________________________________\n",
      "cu_dnnlstm_27 (CuDNNLSTM)    (None, 20)                3360      \n",
      "_________________________________________________________________\n",
      "dropout_27 (Dropout)         (None, 20)                0         \n",
      "_________________________________________________________________\n",
      "dense_6 (Dense)              (None, 1)                 21        \n",
      "=================================================================\n",
      "Total params: 11,941\n",
      "Trainable params: 11,941\n",
      "Non-trainable params: 0\n",
      "_________________________________________________________________\n"
     ]
    },
    {
     "data": {
      "text/plain": [
       "None"
      ]
     },
     "metadata": {},
     "output_type": "display_data"
    }
   ],
   "source": [
    "regressor = tf.keras.models.load_model('regressor.h5')\n",
    "display(regressor.summary())"
   ]
  },
  {
   "cell_type": "code",
   "execution_count": 9,
   "metadata": {},
   "outputs": [
    {
     "data": {
      "text/plain": [
       "array([[0.8802105 ],\n",
       "       [0.880249  ],\n",
       "       [0.88028336],\n",
       "       ...,\n",
       "       [0.9208101 ],\n",
       "       [0.92083   ],\n",
       "       [0.9208461 ]], dtype=float32)"
      ]
     },
     "execution_count": 9,
     "metadata": {},
     "output_type": "execute_result"
    }
   ],
   "source": [
    "y_pred"
   ]
  },
  {
   "cell_type": "code",
   "execution_count": 7,
   "metadata": {
    "scrolled": true
   },
   "outputs": [
    {
     "name": "stdout",
     "output_type": "stream",
     "text": [
      "mse: 0.0002675586835032083\n"
     ]
    }
   ],
   "source": [
    "y_pred = regressor.predict(X_test, batch_size=3600)\n",
    "mse = np.sum((y_pred - y_test) ** 2) / len(y_pred)\n",
    "print(f'mse: {mse}')"
   ]
  },
  {
   "cell_type": "code",
   "execution_count": 10,
   "metadata": {},
   "outputs": [
    {
     "data": {
      "image/png": "[encoded data removed]",
      "text/plain": [
       "<Figure size 432x288 with 1 Axes>"
      ]
     },
     "metadata": {
      "needs_background": "light"
     },
     "output_type": "display_data"
    },
    {
     "data": {
      "image/png": "[encoded data removed]",
      "text/plain": [
       "<Figure size 432x288 with 1 Axes>"
      ]
     },
     "metadata": {
      "needs_background": "light"
     },
     "output_type": "display_data"
    }
   ],
   "source": [
    "def plot_pred_ts(y_pred, y_true, sc: MinMaxScaler=None, start=None, end=None):\n",
    "    if sc is not None:\n",
    "        if len(y_pred.shape) < 2:\n",
    "            y_pred = np.reshape(y_pred, (-1, 1))\n",
    "#         y_pred = sc.inverse_transform(y_pred)\n",
    "        if len(y_true.shape) < 2:\n",
    "            y_true = np.reshape(y_true, (-1 ,1))\n",
    "#         y_true = sc.inverse_transform(y_true)\n",
    "\n",
    "    plt.plot(y_true[start:end], color = 'red', label = 'y_true')\n",
    "    plt.plot(y_pred[start:end], color = 'blue', label = 'y_pred')\n",
    "    plt.show()\n",
    "\n",
    "plot_pred_ts(y_pred=y_pred, y_true=y_train, sc=sc, start=500, end=1000)\n",
    "plot_pred_ts(y_pred=y_pred, y_true=y_train, sc=sc, start=0, end=len(y_pred))"
   ]
  },
  {
   "cell_type": "code",
   "execution_count": null,
   "metadata": {},
   "outputs": [],
   "source": [
    "# # Here we have hidden layers with 50 units each\n",
    "# regressor = Sequential()\n",
    "\n",
    "# regressor.add(LSTM(units = 20, return_sequences = True, input_shape = (X_train.shape[1], 1)))\n",
    "# regressor.add(Dropout(0.15))\n",
    "\n",
    "# regressor.add(LSTM(units = 20, return_sequences = True))\n",
    "# regressor.add(Dropout(0.15))\n",
    "\n",
    "# regressor.add(LSTM(units = 20, return_sequences = True))\n",
    "# regressor.add(Dropout(0.15))\n",
    "\n",
    "# regressor.add(LSTM(units = 20))\n",
    "# regressor.add(Dropout(0.15))\n",
    "\n",
    "# regressor.add(Dense(units = 1))\n",
    "\n",
    "# regressor.compile(optimizer = 'adam', loss = 'mean_squared_error')\n",
    "\n",
    "# regressor.fit(X_train, y_train, epochs = 12, batch_size = 3600)\n",
    "# regressor.save('regressor.h5')"
   ]
  },
  {
   "cell_type": "code",
   "execution_count": null,
   "metadata": {},
   "outputs": [],
   "source": [
    "plt.plot(y_test, color = 'red', label = 'y_test')\n",
    "plt.plot(y_pred, color = 'blue', label = 'y_pred')\n",
    "plt.show()"
   ]
  },
  {
   "cell_type": "code",
   "execution_count": null,
   "metadata": {
    "scrolled": false
   },
   "outputs": [],
   "source": [
    "# import tensorflow as tf\n",
    "# load_model = tf.keras.models.load_model('regressor.h5')\n",
    "# load_model.summary()"
   ]
  },
  {
   "cell_type": "code",
   "execution_count": null,
   "metadata": {},
   "outputs": [],
   "source": [
    "# plt.plot(y_test[:500], color = 'red', label = 'y_test')\n",
    "# plt.plot(y_pred[:500], color = 'blue', label = 'y_pred')\n",
    "# plt.show()"
   ]
  },
  {
   "cell_type": "code",
   "execution_count": null,
   "metadata": {
    "scrolled": true
   },
   "outputs": [],
   "source": [
    "# # mse \n",
    "# np.sum((y_test - y_pred) ** 2) / len(y_test)"
   ]
  },
  {
   "cell_type": "code",
   "execution_count": null,
   "metadata": {},
   "outputs": [],
   "source": [
    "# # Step to plot the data\n",
    "# plt.figure(figsize = (30,15))\n",
    "# plt.plot(y_test, color = 'red', label = 'y_test')\n",
    "# plt.plot(y_pred, color = 'blue', label = 'y_pred')\n",
    "# plt.title('Stock Price Prediction')\n",
    "# plt.xlabel('Time')\n",
    "# plt.ylabel('Stock Price')\n",
    "# plt.legend()\n",
    "# plt.show()\n",
    "\n",
    "# # plt.plot(truncated_df.index, truncated_df['OPEN'], label='truncated')\n",
    "# # plt.plot(aapl_2019_market_df.index, aapl_2019_market_df['OPEN'], label='original')\n",
    "\n",
    "# # plt.legend()\n",
    "# plt.show()"
   ]
  }
 ],
 "metadata": {
  "kernelspec": {
   "display_name": "Python 3",
   "language": "python",
   "name": "python3"
  },
  "language_info": {
   "codemirror_mode": {
    "name": "ipython",
    "version": 3
   },
   "file_extension": ".py",
   "mimetype": "text/x-python",
   "name": "python",
   "nbconvert_exporter": "python",
   "pygments_lexer": "ipython3",
   "version": "3.6.8"
  }
 },
 "nbformat": 4,
 "nbformat_minor": 2
}
